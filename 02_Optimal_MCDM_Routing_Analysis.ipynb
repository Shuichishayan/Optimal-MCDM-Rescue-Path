{
 "cells": [
  {
   "cell_type": "code",
   "execution_count": 2,
   "id": "60516662-11fd-475d-bb09-13b04c7b866b",
   "metadata": {},
   "outputs": [
    {
     "name": "stdout",
     "output_type": "stream",
     "text": [
      "✅ Libraries imported successfully!\n",
      "📁 File paths set.\n"
     ]
    }
   ],
   "source": [
    "# [1] SETUP AND FILE PATHS\n",
    "\n",
    "# Install required libraries (only needs to run once)\n",
    "# !pip install rasterio numpy matplotlib\n",
    "\n",
    "# Import required libraries\n",
    "import rasterio\n",
    "import numpy as np\n",
    "import matplotlib.pyplot as plt\n",
    "import os\n",
    "import warnings\n",
    "\n",
    "# Suppress warnings for cleaner output\n",
    "warnings.filterwarnings('ignore') \n",
    "\n",
    "# --- Define File Paths ---\n",
    "# NOTE: Assuming these files are in the same directory as this notebook\n",
    "dem_path = 'pasig_DEM_clipped.tif'\n",
    "slope_path = 'pasig_slope.tif'\n",
    "\n",
    "# Define the output file path for the Cost Surface\n",
    "cost_surface_path = 'pasig_cost_surface.tif' \n",
    "\n",
    "print(\"✅ Libraries imported successfully!\")\n",
    "print(\"📁 File paths set.\")"
   ]
  },
  {
   "cell_type": "code",
   "execution_count": 3,
   "id": "dbccf1ae-1c38-4cf5-ab53-42c306b5a0a5",
   "metadata": {},
   "outputs": [
    {
     "name": "stdout",
     "output_type": "stream",
     "text": [
      "Loading data...\n",
      "✅ DEM loaded: (61, 53)\n",
      "✅ Slope loaded: (61, 53)\n",
      "Original DEM NoData value is: -32767.0\n"
     ]
    }
   ],
   "source": [
    "# [2] LOAD DATA AND METADATA\n",
    "\n",
    "print(\"Loading data...\")\n",
    "\n",
    "# Load DEM data and metadata\n",
    "with rasterio.open(dem_path) as src:\n",
    "    dem_raw = src.read(1)\n",
    "    dem_meta = src.meta.copy()  # Save the blueprint for later export\n",
    "    NODATA = src.nodata         # Save the NoData value\n",
    "    print(f\"✅ DEM loaded: {src.shape}\")\n",
    "\n",
    "# Load Slope data\n",
    "with rasterio.open(slope_path) as src:\n",
    "    slope_raw = src.read(1)\n",
    "    print(f\"✅ Slope loaded: {src.shape}\")\n",
    "    \n",
    "print(f\"Original DEM NoData value is: {NODATA}\")"
   ]
  },
  {
   "cell_type": "code",
   "execution_count": 4,
   "id": "f0aeab1d-1af1-40a4-baa8-5a89c1090a4b",
   "metadata": {},
   "outputs": [
    {
     "name": "stdout",
     "output_type": "stream",
     "text": [
      "Cleaning data...\n",
      "Cleaned DEM range: -1.0 to 20.0\n",
      "Cleaned Slope range: 89.9 to 90.0\n",
      "✅ Data cleaning complete.\n"
     ]
    }
   ],
   "source": [
    "# [3] CLEAN DATA (Handle NoData values)\n",
    "\n",
    "print(\"Cleaning data...\")\n",
    "\n",
    "# 1. Clean the DEM array: Replace the original NoData value with NaN\n",
    "# Use a general threshold of -1000 since exact NODATA value can vary \n",
    "dem_clean = np.where(dem_raw < -1000, np.nan, dem_raw)\n",
    "\n",
    "# 2. Clean the Slope array: Replace negative or zero values with NaN\n",
    "slope_clean = np.where(slope_raw <= 0, np.nan, slope_raw)\n",
    "\n",
    "# Check the cleaned data range\n",
    "print(f\"Cleaned DEM range: {np.nanmin(dem_clean):.1f} to {np.nanmax(dem_clean):.1f}\")\n",
    "print(f\"Cleaned Slope range: {np.nanmin(slope_clean):.1f} to {np.nanmax(slope_clean):.1f}\")\n",
    "print(\"✅ Data cleaning complete.\")"
   ]
  },
  {
   "cell_type": "code",
   "execution_count": 5,
   "id": "8aa2c9bc-80b2-4d6b-a060-14feb46e1bdb",
   "metadata": {},
   "outputs": [
    {
     "name": "stdout",
     "output_type": "stream",
     "text": [
      "Calculating Cost Surface...\n",
      "✅ Cost Surface array calculated. Range: 0.100 to 0.949\n"
     ]
    }
   ],
   "source": [
    "# [4] CALCULATE OPTIMAL PATH COST SURFACE (MCDM)\n",
    "\n",
    "print(\"Calculating Cost Surface...\")\n",
    "\n",
    "# --- 4a. Normalize and Invert the Data ---\n",
    "\n",
    "# Normalize both arrays (Scale to 0-1)\n",
    "norm_dem = (dem_clean - np.nanmin(dem_clean)) / (np.nanmax(dem_clean) - np.nanmin(dem_clean))\n",
    "norm_slope = (slope_clean - np.nanmin(slope_clean)) / (np.nanmax(slope_clean) - np.nanmin(slope_clean))\n",
    "\n",
    "# Calculate Cost Logic:\n",
    "# 1. Slope Cost: High Slope = High Cost (Direct use)\n",
    "slope_cost_array = norm_slope\n",
    "\n",
    "# 2. DEM Cost: Low Elevation = High Cost (Inverse logic: 1 - normalized_value)\n",
    "dem_cost_array = 1 - norm_dem\n",
    "\n",
    "# --- 4b. Weighted Overlay ---\n",
    "\n",
    "W_SLOPE = 0.70  # Primary factor: Vehicle stability/safety\n",
    "W_DEM = 0.30    # Secondary factor: Avoiding low-lying/flood zones\n",
    "\n",
    "# Final Cost Surface Calculation (The AI-Ready Input)\n",
    "cost_surface_array = (slope_cost_array * W_SLOPE) + (dem_cost_array * W_DEM)\n",
    "\n",
    "print(f\"✅ Cost Surface array calculated. Range: {np.nanmin(cost_surface_array):.3f} to {np.nanmax(cost_surface_array):.3f}\")"
   ]
  },
  {
   "cell_type": "code",
   "execution_count": 6,
   "id": "b8f3bd9d-920d-4a79-8ba2-8d64b6c99ceb",
   "metadata": {},
   "outputs": [
    {
     "data": {
      "image/png": "[encoded data removed]",
      "text/plain": [
       "<Figure size 800x800 with 2 Axes>"
      ]
     },
     "metadata": {},
     "output_type": "display_data"
    },
    {
     "name": "stdout",
     "output_type": "stream",
     "text": [
      "✅ Visualization complete.\n",
      "--------------------------------------------------\n",
      "🎯 FINAL DELIVERABLE EXPORTED\n",
      "File: pasig_cost_surface.tif\n",
      "Ready to switch to QGIS for final path-finding visualization!\n"
     ]
    }
   ],
   "source": [
    "# [5] EXPORT AND VISUALIZE COST SURFACE\n",
    "\n",
    "# --- 5a. Visualization ---\n",
    "fig, ax = plt.subplots(figsize=(8, 8))\n",
    "# Use a reversed color map to show High Cost (1) as Red\n",
    "im = ax.imshow(cost_surface_array, cmap='RdYlGn_r', vmin=0, vmax=1) \n",
    "ax.set_title('AI-Ready Optimal Travel Cost Surface', fontsize=14, fontweight='bold')\n",
    "plt.colorbar(im, ax=ax, label='Travel Cost (0=Low, 1=High)', shrink=0.7)\n",
    "ax.axis('off')\n",
    "plt.show()\n",
    "print(\"✅ Visualization complete.\")\n",
    "\n",
    "\n",
    "# --- 5b. Export the Final GeoTIFF ---\n",
    "NEW_NODATA = -9999.0\n",
    "\n",
    "# Update the metadata for the new float raster\n",
    "output_meta = dem_meta.copy()\n",
    "output_meta.update({\n",
    "    'dtype': 'float32',\n",
    "    'nodata': NEW_NODATA\n",
    "})\n",
    "\n",
    "# Replace NumPy NaNs with the new raster NoData value for export\n",
    "cost_surface_export = np.nan_to_num(cost_surface_array, nan=NEW_NODATA)\n",
    "\n",
    "# Export the final GeoTIFF\n",
    "with rasterio.open(cost_surface_path, 'w', **output_meta) as dst:\n",
    "    # Ensure the dimensions match before writing\n",
    "    if cost_surface_export.shape == dem_raw.shape:\n",
    "        dst.write(cost_surface_export.astype(rasterio.float32), 1)\n",
    "    \n",
    "print(\"-\" * 50)\n",
    "print(\"🎯 FINAL DELIVERABLE EXPORTED\")\n",
    "print(f\"File: {cost_surface_path}\")\n",
    "print(\"Ready to switch to QGIS for final path-finding visualization!\")"
   ]
  },
  {
   "cell_type": "code",
   "execution_count": null,
   "id": "9b3b0bc3-7a1c-4090-8c97-80b173c2008c",
   "metadata": {},
   "outputs": [],
   "source": []
  }
 ],
 "metadata": {
  "kernelspec": {
   "display_name": "Python 3 (ipykernel)",
   "language": "python",
   "name": "python3"
  },
  "language_info": {
   "codemirror_mode": {
    "name": "ipython",
    "version": 3
   },
   "file_extension": ".py",
   "mimetype": "text/x-python",
   "name": "python",
   "nbconvert_exporter": "python",
   "pygments_lexer": "ipython3",
   "version": "3.12.4"
  }
 },
 "nbformat": 4,
 "nbformat_minor": 5
}
